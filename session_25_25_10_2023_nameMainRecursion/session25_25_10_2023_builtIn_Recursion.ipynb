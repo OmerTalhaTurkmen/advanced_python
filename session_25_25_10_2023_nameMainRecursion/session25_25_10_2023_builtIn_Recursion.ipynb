{
 "cells": [
  {
   "cell_type": "markdown",
   "metadata": {},
   "source": [
    "pip install \"project-name\""
   ]
  },
  {
   "cell_type": "markdown",
   "metadata": {},
   "source": [
    "pip install \"project-name==2.4\""
   ]
  },
  {
   "cell_type": "markdown",
   "metadata": {},
   "source": [
    "pip install \"project-name~=2.4\""
   ]
  },
  {
   "cell_type": "markdown",
   "metadata": {},
   "source": [
    "GET ==> 200, 400, 500, 300"
   ]
  },
  {
   "cell_type": "code",
   "execution_count": 1,
   "metadata": {},
   "outputs": [
    {
     "name": "stdout",
     "output_type": "stream",
     "text": [
      "200\n"
     ]
    }
   ],
   "source": [
    "import urllib3\n",
    "\n",
    "req = urllib3.request(\"GET\", \"http://www.google.com\")\n",
    "\n",
    "print(req.status)"
   ]
  },
  {
   "cell_type": "code",
   "execution_count": 6,
   "metadata": {},
   "outputs": [
    {
     "name": "stdout",
     "output_type": "stream",
     "text": [
      "200\n"
     ]
    }
   ],
   "source": [
    "from urllib3 import request\n",
    "\n",
    "istek = request(\"GET\", \"http://www.google.com\")\n",
    "\n",
    "print(istek.status)"
   ]
  },
  {
   "cell_type": "markdown",
   "metadata": {},
   "source": [
    "\"if __*name*__ == '__*main*__'\""
   ]
  },
  {
   "cell_type": "markdown",
   "metadata": {},
   "source": [
    "# BuiltIn Modules"
   ]
  },
  {
   "cell_type": "markdown",
   "metadata": {},
   "source": [
    "IPython             _weakrefset         heapq               secrets\n",
    "__future__          _winapi             hmac                select\n",
    "_abc                abc                 html                selectors\n",
    "_ast                aifc                http                setuptools\n",
    "_asyncio            antigravity         idlelib             shelve\n",
    "_bisect             argparse            imaplib             shlex\n",
    "_blake2             array               imghdr              shutil\n",
    "_bootlocale         ast                 imp                 signal\n",
    "_bz2                asynchat            importlib           simplegeneric\n",
    "_codecs             asyncio             ind                 site\n",
    "_codecs_cn          asyncore            inspect             six\n",
    "_codecs_hk          atexit              io                  smtpd\n",
    "_codecs_iso2022     audioop             ipaddress           smtplib\n",
    "_codecs_jp          autoreload          ipython_genutils    sndhdr\n",
    "_codecs_kr          backcall            itertools           socket\n",
    "_codecs_tw          base64              jedi                socketserver\n",
    "_collections        bdb                 json                sqlite3\n",
    "_collections_abc    binascii            keyword             sre_compile\n",
    "_compat_pickle      binhex              lib2to3             sre_constants\n",
    "_compression        bisect              linecache           sre_parse\n",
    "_contextvars        builtins            locale              ssl\n",
    "_csv                bz2                 logging             stat\n",
    "_ctypes             cProfile            lzma                statistics\n",
    "_ctypes_test        calendar            macpath             storemagic\n",
    "_datetime           cgi                 mailbox             string\n",
    "_decimal            cgitb               mailcap             stringprep\n",
    "_distutils_findvs   chunk               marshal             struct\n",
    "_dummy_thread       cmath               math                subprocess\n",
    "_elementtree        cmd                 mimetypes           sunau\n",
    "_functools          code                mmap                symbol\n",
    "_hashlib            codecs              modulefinder        sympyprinting\n",
    "_heapq              codeop              msilib              symtable\n",
    "_imp                collections         msvcrt              sys\n",
    "_io                 colorama            multiprocessing     sysconfig\n",
    "_json               colorsys            netrc               tabnanny\n",
    "_locale             compileall          nntplib             tarfile\n",
    "_lsprof             concurrent          nt                  telnetlib\n",
    "_lzma               configparser        ntpath              tempfile\n",
    "_markupbase         contextlib          nturl2path          test\n",
    "_md5                contextvars         numbers             tests\n",
    "_msi                copy                opcode              textwrap\n",
    "_multibytecodec     copyreg             operator            this\n",
    "_multiprocessing    crypt               optparse            threading\n",
    "_opcode             csv                 os                  time\n",
    "_operator           ctypes              parser              timeit\n",
    "_osx_support        curses              parso               tkinter\n",
    "_overlapped         cythonmagic         pathlib             token\n",
    "_pickle             dataclasses         pdb                 tokenize\n",
    "_py_abc             datetime            pickle              trace\n",
    "_pydecimal          dbm                 pickleshare         traceback\n",
    "_pyio               decimal             pickletools         tracemalloc\n",
    "_queue              decorator           pip                 traitlets\n",
    "_random             difflib             pipes               tty\n",
    "_sha1               dis                 pkg_resources       turtle\n",
    "_sha256             distutils           pkgutil             turtledemo\n",
    "_sha3               doctest             platform            types\n",
    "_sha512             dummy_threading     plistlib            typing\n",
    "_signal             easy_install        poplib              unicodedata\n",
    "_sitebuiltins       email               posixpath           unittest\n",
    "_socket             encodings           pprint              urllib\n",
    "_sqlite3            ensurepip           profile             uu\n",
    "_sre                enum                prompt_toolkit      uuid\n",
    "_ssl                errno               pstats              venv\n",
    "_stat               faulthandler        pty                 warnings\n",
    "_string             filecmp             py_compile          wave\n",
    "_strptime           fileinput           pyclbr              wcwidth\n",
    "_struct             fnmatch             pydoc               weakref\n",
    "_symtable           formatter           pydoc_data          webbrowser\n",
    "_testbuffer         fractions           pyexpat             winreg\n",
    "_testcapi           ftplib              pygments            winsound\n",
    "_testconsole        functools           queue               wsgiref\n",
    "_testimportmultiple gc                  quopri              xdrlib\n",
    "_testmultiphase     genericpath         random              xml\n",
    "_thread             getopt              re                  xmlrpc\n",
    "_threading_local    getpass             reprlib             xxsubtype\n",
    "_tkinter            gettext             rlcompleter         zipapp\n",
    "_tracemalloc        glob                rmagic              zipfile\n",
    "_warnings           gzip                runpy               zipimport\n",
    "_weakref            hashlib             sched               zlib\n",
    "\n",
    "Enter any module name to get more help.  Or, type \"modules spam\" to search\n",
    "for modules whose name or summary contain the string \"spam\".\n",
    "\n"
   ]
  },
  {
   "cell_type": "code",
   "execution_count": 7,
   "metadata": {},
   "outputs": [
    {
     "name": "stdout",
     "output_type": "stream",
     "text": [
      "\n",
      "Please wait a moment while I gather a list of all available modules...\n",
      "\n",
      "test_sqlite3: testing with version '2.6.0', sqlite_version '3.42.0'\n"
     ]
    },
    {
     "name": "stderr",
     "output_type": "stream",
     "text": [
      "c:\\Users\\Techpro\\AppData\\Local\\Programs\\Python\\Python311\\Lib\\pkgutil.py:92: UserWarning: The numpy.array_api submodule is still experimental. See NEP 47.\n",
      "  __import__(info.name)\n",
      "c:\\Users\\Techpro\\AppData\\Local\\Programs\\Python\\Python311\\Lib\\site-packages\\_distutils_hack\\__init__.py:33: UserWarning: Setuptools is replacing distutils.\n",
      "  warnings.warn(\"Setuptools is replacing distutils.\")\n"
     ]
    }
   ],
   "source": [
    "help('modules')"
   ]
  },
  {
   "cell_type": "markdown",
   "metadata": {},
   "source": [
    "OS Modülü"
   ]
  },
  {
   "cell_type": "markdown",
   "metadata": {},
   "source": [
    "getcwd - hangi dizinde çalışıyoruz onu gösterir."
   ]
  },
  {
   "cell_type": "code",
   "execution_count": 2,
   "metadata": {},
   "outputs": [
    {
     "name": "stdout",
     "output_type": "stream",
     "text": [
      "c:\\Users\\Techpro\\Desktop\\AdvancePython\\session_25_25_10_2023_nameMainRecursion\n"
     ]
    }
   ],
   "source": [
    "import os\n",
    "print(os.getcwd())"
   ]
  },
  {
   "cell_type": "markdown",
   "metadata": {},
   "source": [
    "dizin oluşturma"
   ]
  },
  {
   "cell_type": "code",
   "execution_count": 3,
   "metadata": {},
   "outputs": [],
   "source": [
    "import os\n",
    "\n",
    "os.mkdir(\"MyProject\")"
   ]
  },
  {
   "cell_type": "code",
   "execution_count": 6,
   "metadata": {},
   "outputs": [],
   "source": [
    "import os\n",
    "\n",
    "os.mkdir(r\"c:\\Users\\Techpro\\Desktop\\AdvancePython\\MyKlasor\")"
   ]
  },
  {
   "cell_type": "markdown",
   "metadata": {},
   "source": [
    "dizin değiştirme"
   ]
  },
  {
   "cell_type": "code",
   "execution_count": 12,
   "metadata": {},
   "outputs": [
    {
     "name": "stdout",
     "output_type": "stream",
     "text": [
      "c:\\Users\\Techpro\\Desktop\\AdvancePython\n"
     ]
    }
   ],
   "source": [
    "import os\n",
    "os.chdir(\"..\")\n",
    "print(os.getcwd())\n",
    "# os.chdir(r\"c:\\Users\\Techpro\\Desktop\\AdvancePython\\MyKlasor\")\n",
    "# print(os.getcwd())"
   ]
  },
  {
   "cell_type": "markdown",
   "metadata": {},
   "source": [
    "dizin silme"
   ]
  },
  {
   "cell_type": "code",
   "execution_count": 13,
   "metadata": {},
   "outputs": [],
   "source": [
    "import os\n",
    "\n",
    "os.rmdir(r\"c:\\Users\\Techpro\\Desktop\\AdvancePython\\MyKlasor\")"
   ]
  },
  {
   "cell_type": "markdown",
   "metadata": {},
   "source": [
    "dizin içeriği listeleme"
   ]
  },
  {
   "cell_type": "code",
   "execution_count": 14,
   "metadata": {},
   "outputs": [
    {
     "name": "stdout",
     "output_type": "stream",
     "text": [
      "['session_21_20_10_2023.ipynb', 'session_22_21_10_2023_regex.ipynb', 'session_23_24102023_fileManagement', 'session_24_24102023_modulesPackages', 'session_25_25_10_2023_nameMainRecursion']\n"
     ]
    }
   ],
   "source": [
    "import os\n",
    "\n",
    "print(os.listdir())"
   ]
  },
  {
   "cell_type": "markdown",
   "metadata": {},
   "source": [
    "random modülü"
   ]
  },
  {
   "cell_type": "code",
   "execution_count": 22,
   "metadata": {},
   "outputs": [
    {
     "name": "stdout",
     "output_type": "stream",
     "text": [
      "0.0424161120809432\n"
     ]
    }
   ],
   "source": [
    "import random\n",
    "print(random.random()) # 0.0 ile 1.0 arasında bir değer"
   ]
  },
  {
   "cell_type": "code",
   "execution_count": 55,
   "metadata": {},
   "outputs": [
    {
     "name": "stdout",
     "output_type": "stream",
     "text": [
      "4\n",
      "1\n",
      "80\n"
     ]
    }
   ],
   "source": [
    "import random\n",
    "\n",
    "print(random.randrange(1, 10))\n",
    "print(random.randrange(1, 10, 2))\n",
    "print(random.randrange(0, 101, 10))\n",
    "\n"
   ]
  },
  {
   "cell_type": "code",
   "execution_count": 97,
   "metadata": {},
   "outputs": [
    {
     "name": "stdout",
     "output_type": "stream",
     "text": [
      "o\n",
      "65\n",
      "67\n"
     ]
    }
   ],
   "source": [
    "print(random.choice('computer'))\n",
    "print(random.choice([12, 23, 45, 67, 65, 43]))\n",
    "print(random.choice((12, 23, 45, 67, 65, 43)))\n"
   ]
  },
  {
   "cell_type": "code",
   "execution_count": 88,
   "metadata": {},
   "outputs": [
    {
     "name": "stdout",
     "output_type": "stream",
     "text": [
      "[45, 67, 23, 65, 12, 43]\n"
     ]
    }
   ],
   "source": [
    "numbers = [12, 23, 45, 67, 65, 43]\n",
    "\n",
    "random.shuffle(numbers)\n",
    "\n",
    "print(numbers)"
   ]
  },
  {
   "cell_type": "markdown",
   "metadata": {},
   "source": [
    "recursion"
   ]
  },
  {
   "cell_type": "markdown",
   "metadata": {},
   "source": [
    "Rekürsif fonksiyonlar, bir işlemi daha küçük parçalara bölmek ve her parçanın kendisine benzer bir işlemi gerçekleştirmesi fikrine dayanır. Bu, işlevlerin kendilerini çağırmasına izin verir. Kendini çağıran bir fonksiyon özyinelemeli bir fonksiyondur. Bu yöntem, belirli bir problem kendi içinde tanımlandığında kullanılır. Bu, yinelemeyi içermesine rağmen, böyle bir sorunu çözmek için yinelemeli bir yaklaşım kullanmak sıkıcı olabilir. Özyinelemeli yaklaşım, görünüşte karmaşık bir soruna çok kısa bir çözüm sağlar. Göz alıcı görünse de anlaşılması zor olabilir!\n",
    "1.\tTemel Durum (Base Case): Rekürsif bir fonksiyonun bir sona erme şartıdır. Fonksiyonun kendini çağırmadan önce durması gereken bir koşul. Temel durum, sonsuz bir döngüye girmemek için çok önemlidir.\n",
    "2.\tÖzyinelemeli Adım (Recursive Step): Bu adım, fonksiyonun kendisini daha küçük bir versiyonla çağırma adımıdır. Özyinelemeli adım, işlemi küçük parçalara böler.\n",
    "Özyinelemenin en popüler örneği faktöriyelin hesaplanmasıdır. Matematiksel olarak faktöriyel şu şekilde tanımlanır: n! = n * (n-1)!\n",
    "Faktöriyeli tanımlamak için faktöriyelin kendisini kullanırız. Dolayısıyla, bu özyinelemeli bir fonksiyon yazmak için uygun bir durumdur. Yukarıdaki tanımı 5'in faktöriyel değerini hesaplamak için genişletelim.\n"
   ]
  },
  {
   "cell_type": "code",
   "execution_count": 98,
   "metadata": {},
   "outputs": [
    {
     "name": "stdout",
     "output_type": "stream",
     "text": [
      "7 * 6 * 5 * 4 * 3 * 2 * 1\n"
     ]
    },
    {
     "data": {
      "text/plain": [
       "5040"
      ]
     },
     "execution_count": 98,
     "metadata": {},
     "output_type": "execute_result"
    }
   ],
   "source": [
    "def faktoriyel(n):\n",
    "    if n == 1:\n",
    "        print(n)\n",
    "        return 1\n",
    "    else:\n",
    "        print(n, \"*\", end=\" \")\n",
    "        return n * faktoriyel(n-1)\n",
    "    \n",
    "faktoriyel(7)"
   ]
  },
  {
   "cell_type": "code",
   "execution_count": 103,
   "metadata": {},
   "outputs": [],
   "source": [
    "def fibonacci(n):\n",
    "    if n <= 0:\n",
    "        return 0\n",
    "    elif n == 1:\n",
    "        return 1\n",
    "    else:\n",
    "        # print(n, end=\" \")\n",
    "        return fibonacci(n-1) + fibonacci(n-2)"
   ]
  },
  {
   "cell_type": "code",
   "execution_count": 104,
   "metadata": {},
   "outputs": [
    {
     "name": "stdout",
     "output_type": "stream",
     "text": [
      "1\n"
     ]
    }
   ],
   "source": [
    "result = fibonacci(2)\n",
    "print(result)"
   ]
  },
  {
   "cell_type": "markdown",
   "metadata": {},
   "source": [
    "0 1 1 2 3 5 8 13"
   ]
  }
 ],
 "metadata": {
  "kernelspec": {
   "display_name": "Python 3",
   "language": "python",
   "name": "python3"
  },
  "language_info": {
   "codemirror_mode": {
    "name": "ipython",
    "version": 3
   },
   "file_extension": ".py",
   "mimetype": "text/x-python",
   "name": "python",
   "nbconvert_exporter": "python",
   "pygments_lexer": "ipython3",
   "version": "3.11.4"
  }
 },
 "nbformat": 4,
 "nbformat_minor": 2
}
